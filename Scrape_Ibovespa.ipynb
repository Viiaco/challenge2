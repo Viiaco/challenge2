{
 "cells": [
  {
   "cell_type": "code",
   "execution_count": 24,
   "id": "088be170",
   "metadata": {},
   "outputs": [],
   "source": [
    "import pandas as pd\n",
    "from selenium import webdriver\n",
    "from selenium.webdriver.chrome.service import Service\n",
    "from webdriver_manager.chrome import ChromeDriverManager\n",
    "from selenium.webdriver.chrome.options import Options\n",
    "from selenium.webdriver.common.by import By\n",
    "from selenium.webdriver.support import expected_conditions as EC\n",
    "from selenium.webdriver.support.ui import WebDriverWait\n",
    "import time"
   ]
  },
  {
   "cell_type": "code",
   "execution_count": 25,
   "id": "6e7b381a",
   "metadata": {},
   "outputs": [],
   "source": [
    "driver = webdriver.Chrome(service=Service(ChromeDriverManager().install()))"
   ]
  },
  {
   "cell_type": "code",
   "execution_count": 26,
   "id": "058ca76f",
   "metadata": {},
   "outputs": [],
   "source": [
    "url = 'https://sistemaswebb3-listados.b3.com.br/indexPage/day/IBOV?language=pt-br'\n",
    "\n",
    "driver.get(url)"
   ]
  },
  {
   "cell_type": "code",
   "execution_count": 27,
   "id": "c796dba4",
   "metadata": {},
   "outputs": [
    {
     "name": "stdout",
     "output_type": "stream",
     "text": [
      "Found the container: <selenium.webdriver.remote.webelement.WebElement (session=\"50c2ec7c9a768e4b49aaf56bf01cd6aa\", element=\"f.25E37A1C818B666E452D2D495BF2FDCD.d.3A49BFE639AE2FA9E295F4A0A7751F63.e.12\")>\n"
     ]
    }
   ],
   "source": [
    "# Wait for the container to be available\n",
    "container = WebDriverWait(driver, 10).until(\n",
    "    EC.presence_of_element_located((By.ID, \"divContainerIframeB3\"))\n",
    ")\n",
    "print(\"Found the container:\", container)\n"
   ]
  },
  {
   "cell_type": "code",
   "execution_count": 28,
   "id": "34c3f384",
   "metadata": {},
   "outputs": [
    {
     "name": "stdout",
     "output_type": "stream",
     "text": [
      "DataFrame with date column saved as ibovespa_17-03-25.parquet\n"
     ]
    }
   ],
   "source": [
    "# Extract the date from the container\n",
    "date_element = container.find_element(By.XPATH, \"//p[contains(text(), 'Carteira Teórica do IBovespa válida para')]\")\n",
    "date_text = date_element.text.split(\"para\")[-1].strip()  # Extracts '17/03/25'\n",
    "\n",
    "# Format the date to make it file-system friendly\n",
    "formatted_date = date_text.replace(\"/\", \"-\")  # Replace slashes with dashes for file naming\n",
    "\n",
    "# Locate the table within the container\n",
    "table = container.find_element(By.TAG_NAME, \"table\")\n",
    "rows = table.find_elements(By.TAG_NAME, \"tr\")\n",
    "\n",
    "# Extract header\n",
    "headers = [header.text for header in rows[0].find_elements(By.TAG_NAME, \"th\")]\n",
    "\n",
    "# Extract rows\n",
    "data = []\n",
    "for row in rows[1:]:\n",
    "    cols = row.find_elements(By.TAG_NAME, \"td\")\n",
    "    data.append([col.text for col in cols])\n",
    "\n",
    "# Convert to Pandas DataFrame\n",
    "df = pd.DataFrame(data, columns=headers)\n",
    "\n",
    "# Add the extracted date to the DataFrame as a new column\n",
    "df[\"Date\"] = date_text\n",
    "\n",
    "# Save the DataFrame to a Parquet file with the date in the name\n",
    "parquet_file_name = f\"ibovespa_{formatted_date}.parquet\"\n",
    "df.to_parquet(f'data\\\\{parquet_file_name}', engine=\"pyarrow\", index=False)\n",
    "\n",
    "csv_file_name = parquet_file_name.replace(\".parquet\", \".csv\")  # Replace the extension\n",
    "df.to_csv(f'data\\\\{csv_file_name}', index=False, encoding=\"utf-8\")\n",
    "\n",
    "print(f\"DataFrame with date column saved as {parquet_file_name}\")\n"
   ]
  },
  {
   "cell_type": "code",
   "execution_count": 29,
   "id": "ef82fe9a",
   "metadata": {},
   "outputs": [
    {
     "data": {
      "text/html": [
       "<div>\n",
       "<style scoped>\n",
       "    .dataframe tbody tr th:only-of-type {\n",
       "        vertical-align: middle;\n",
       "    }\n",
       "\n",
       "    .dataframe tbody tr th {\n",
       "        vertical-align: top;\n",
       "    }\n",
       "\n",
       "    .dataframe thead th {\n",
       "        text-align: right;\n",
       "    }\n",
       "</style>\n",
       "<table border=\"1\" class=\"dataframe\">\n",
       "  <thead>\n",
       "    <tr style=\"text-align: right;\">\n",
       "      <th></th>\n",
       "      <th>Código</th>\n",
       "      <th>Ação</th>\n",
       "      <th>Tipo</th>\n",
       "      <th>Qtde. Teórica</th>\n",
       "      <th>Part. (%)</th>\n",
       "      <th>Date</th>\n",
       "    </tr>\n",
       "  </thead>\n",
       "  <tbody>\n",
       "    <tr>\n",
       "      <th>0</th>\n",
       "      <td>ALOS3</td>\n",
       "      <td>ALLOS</td>\n",
       "      <td>ON NM</td>\n",
       "      <td>476.976.044</td>\n",
       "      <td>0,439</td>\n",
       "      <td>17/03/25</td>\n",
       "    </tr>\n",
       "    <tr>\n",
       "      <th>1</th>\n",
       "      <td>ABEV3</td>\n",
       "      <td>AMBEV S/A</td>\n",
       "      <td>ON ED</td>\n",
       "      <td>4.394.835.131</td>\n",
       "      <td>2,867</td>\n",
       "      <td>17/03/25</td>\n",
       "    </tr>\n",
       "    <tr>\n",
       "      <th>2</th>\n",
       "      <td>ASAI3</td>\n",
       "      <td>ASSAI</td>\n",
       "      <td>ON NM</td>\n",
       "      <td>1.345.832.968</td>\n",
       "      <td>0,491</td>\n",
       "      <td>17/03/25</td>\n",
       "    </tr>\n",
       "    <tr>\n",
       "      <th>3</th>\n",
       "      <td>AURE3</td>\n",
       "      <td>AUREN</td>\n",
       "      <td>ON NM</td>\n",
       "      <td>323.738.747</td>\n",
       "      <td>0,119</td>\n",
       "      <td>17/03/25</td>\n",
       "    </tr>\n",
       "    <tr>\n",
       "      <th>4</th>\n",
       "      <td>AMOB3</td>\n",
       "      <td>AUTOMOB</td>\n",
       "      <td>ON NM</td>\n",
       "      <td>533.959.816</td>\n",
       "      <td>0,007</td>\n",
       "      <td>17/03/25</td>\n",
       "    </tr>\n",
       "  </tbody>\n",
       "</table>\n",
       "</div>"
      ],
      "text/plain": [
       "  Código       Ação   Tipo  Qtde. Teórica Part. (%)      Date\n",
       "0  ALOS3      ALLOS  ON NM    476.976.044     0,439  17/03/25\n",
       "1  ABEV3  AMBEV S/A  ON ED  4.394.835.131     2,867  17/03/25\n",
       "2  ASAI3      ASSAI  ON NM  1.345.832.968     0,491  17/03/25\n",
       "3  AURE3      AUREN  ON NM    323.738.747     0,119  17/03/25\n",
       "4  AMOB3    AUTOMOB  ON NM    533.959.816     0,007  17/03/25"
      ]
     },
     "execution_count": 29,
     "metadata": {},
     "output_type": "execute_result"
    }
   ],
   "source": [
    "df.head()"
   ]
  }
 ],
 "metadata": {
  "kernelspec": {
   "display_name": "Python 3",
   "language": "python",
   "name": "python3"
  },
  "language_info": {
   "codemirror_mode": {
    "name": "ipython",
    "version": 3
   },
   "file_extension": ".py",
   "mimetype": "text/x-python",
   "name": "python",
   "nbconvert_exporter": "python",
   "pygments_lexer": "ipython3",
   "version": "3.12.3"
  }
 },
 "nbformat": 4,
 "nbformat_minor": 5
}
